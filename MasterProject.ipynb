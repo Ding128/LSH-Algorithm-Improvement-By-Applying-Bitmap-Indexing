{
 "cells": [
  {
   "cell_type": "markdown",
   "metadata": {},
   "source": [
    "# LSH Algorithm Improvement By Applying Bitmap Indexing"
   ]
  },
  {
   "cell_type": "code",
   "execution_count": 51,
   "metadata": {},
   "outputs": [],
   "source": [
    "import argparse\n",
    "import sys\n",
    "from os import listdir\n",
    "from os.path import isfile, join\n",
    "from typing import Dict, List, Optional, Tuple\n",
    "import imagehash\n",
    "from PIL import Image\n",
    "import os, os.path\n",
    "import cv2\n",
    "from collections import Counter\n",
    "import scipy as sp\n",
    "import numpy as np # Import numpy library \n",
    "from skimage.feature import hog # Import Hog model to extract features\n",
    "from sklearn.metrics import confusion_matrix # Import confusion matrix to evaluate the performance\n",
    "import pandas as pd\n",
    "from pyspark.ml.linalg import Vectors\n",
    "from pyspark.sql.functions import col\n",
    "from pyspark.conf import SparkConf\n",
    "from pyspark.ml.feature import BucketedRandomProjectionLSH\n",
    "from pyspark.sql import SparkSession\n",
    "from sklearn.model_selection import train_test_split"
   ]
  },
  {
   "cell_type": "code",
   "execution_count": 34,
   "metadata": {},
   "outputs": [],
   "source": [
    "imgs = []\n",
    "y = []\n",
    "file_size = []\n",
    "k = 0\n",
    "path = \"./data/101_ObjectCategories\" # Give the dataset path here"
   ]
  },
  {
   "cell_type": "markdown",
   "metadata": {},
   "source": [
    "##  Data Preprocessing:\n",
    "1. Load the images using cv2\n",
    "2. Image resize\n",
    "3. Feature extraction: BGR to Gray conversion \n",
    "4. Feature extraction: Histogram of Oriented Gradients(HOG)"
   ]
  },
  {
   "cell_type": "code",
   "execution_count": 35,
   "metadata": {},
   "outputs": [],
   "source": [
    "folder = os.listdir(path) # from the given path get the file names such as accordion, airplanes etc..\n",
    "for file in folder: # for every file name in the given path go inseide that directory and get the images\n",
    "    subpath = os.path.join(path,file)  # Join the name of these files to the previous path \n",
    "    \n",
    "    files = os.listdir(subpath) # Take these image names to a list called files\n",
    "    j = 0\n",
    "    for i in range(np.size(files)): # now we shall loop through these number of files\n",
    "        \n",
    "        im = cv2.imread(subpath+'/'+files[0+j]) # Read the images from this subpath\n",
    "        \n",
    "        imgs.append(im) # append all the read images to a list called imgs\n",
    "        y.append(k) # generate a labe to every file and append it to labels list\n",
    "\n",
    "        j += 1\n",
    "        if (j == (np.size(files))):\n",
    "            file_size.append(j)\n",
    "   \n",
    "    k += 1\n",
    "     \n",
    "y = np.array(y).tolist()\n",
    "ix = []\n",
    "for index, item in enumerate(imgs):\n",
    "    if (np.size(item) == 1):\n",
    "        ix.append(index)\n",
    "        del imgs[index]\n",
    "        \n",
    "for index, item in enumerate(y):\n",
    "    for v in range(np.size(ix)):\n",
    "        if (index == ix[v]):\n",
    "            del y[index]\n",
    "        \n",
    "y = np.array(y).astype(np.float64) \n",
    "\n",
    "# Function to convert an image from color to grayscale\n",
    "def resize_(image):\n",
    "    u = cv2.resize(image,(256,256))\n",
    "    return u\n",
    "\n",
    "def rgb2gray(rgb):\n",
    "    gray = cv2.cvtColor(rgb, cv2.COLOR_BGR2GRAY)\n",
    "    return gray\n",
    "\n",
    "def fd_hog(image):\n",
    "    fd = hog(image, orientations=8, pixels_per_cell=(64, 64),\n",
    "                        cells_per_block=(2, 2))\n",
    "    \n",
    "    return fd"
   ]
  },
  {
   "cell_type": "code",
   "execution_count": 36,
   "metadata": {},
   "outputs": [
    {
     "name": "stderr",
     "output_type": "stream",
     "text": [
      "100% (9176 of 9176) |####################| Elapsed Time: 0:01:55 Time:  0:01:55\n"
     ]
    }
   ],
   "source": [
    "a=[]\n",
    "import progressbar\n",
    "with progressbar.ProgressBar(max_value=len(imgs)) as bar:\n",
    "    i=1\n",
    "    for img in imgs:\n",
    "        b=resize_(img)\n",
    "        c=rgb2gray(b)   \n",
    "        d=fd_hog(c)\n",
    "        a.append(d)\n",
    "        bar.update(i)\n",
    "        i+=1\n",
    "df = pd.DataFrame(a)\n",
    "df['lable'] = y\n",
    "id_ = np.arange(1,len(df)+1,1)\n",
    "df['id'] = id_\n",
    "X = df.values\n",
    "\n",
    "spark = SparkSession.builder \\\n",
    " .master(\"local\") \\\n",
    " .appName(\"Image Retrieval\") \\\n",
    " .config(\"spark.some.config.option\", \"some-value\") \\\n",
    " .getOrCreate()\n"
   ]
  },
  {
   "cell_type": "code",
   "execution_count": 37,
   "metadata": {},
   "outputs": [
    {
     "name": "stdout",
     "output_type": "stream",
     "text": [
      "HOG diamension: \n"
     ]
    },
    {
     "data": {
      "text/plain": [
       "288"
      ]
     },
     "execution_count": 37,
     "metadata": {},
     "output_type": "execute_result"
    }
   ],
   "source": [
    "print(\"HOG diamension: \")\n",
    "len(a[0])"
   ]
  },
  {
   "cell_type": "code",
   "execution_count": 140,
   "metadata": {},
   "outputs": [],
   "source": [
    "def getBestPerformance(numOfTest, bucketLength,numHashTables,numOfNeighbor):\n",
    " \n",
    "    X_train, X_test, y_train, y_test = train_test_split(X, y, test_size=0.3)\n",
    "\n",
    "    Train = map(lambda x: (int(x[-1]),int(x[-2]),Vectors.dense(x[:-2])), X_train)\n",
    "    Train_df = spark.createDataFrame(Train,schema=['id','label',\"features\"])\n",
    "    Test = map(lambda x: (int(x[-1]),int(x[-2]),Vectors.dense(x[:-2])), X_test)\n",
    "    Test_df = spark.createDataFrame(Test,schema=['id','label',\"features\"])\n",
    "\n",
    "    brp = BucketedRandomProjectionLSH(inputCol=\"features\", outputCol=\"hashes\", \n",
    "                                      bucketLength=bucketLength,numHashTables=numHashTables)\n",
    "    \n",
    "    \n",
    "    model = brp.fit(Train_df)\n",
    "    model.transform(Train_df)\n",
    "  \n",
    "    nnToMajorityAccMap = {}\n",
    "    nnToWeightedAccMap = {}\n",
    "    with progressbar.ProgressBar(max_value = numOfTest) as bar:\n",
    "        for i in range(0, numOfTest):\n",
    "            Catg = X_test[i][-2]\n",
    "            key = Vectors.dense(X_test[i][0:-2])\n",
    "            # Choose the Last one of numOfNeighbor, the biggest one \n",
    "            result = model.approxNearestNeighbors(Train_df, key, numOfNeighbor[-1], distCol=\"EuclideanDistance\")\n",
    "            # Conver pySpark framework colunm to python list\n",
    "            labelList = result.select(\"label\").rdd.flatMap(lambda x: x).collect()\n",
    "            # Build a distance dataframe for the distance between query and result\n",
    "            result1 = result.select('label', 'EuclideanDistance').collect()\n",
    "            df_weighted = pd.DataFrame()\n",
    "            df_weighted['Label'] = [int(row['label']) for row in result1]\n",
    "            df_weighted['EuclideanDistance'] = [float(row['EuclideanDistance']) for row in result1]\n",
    "            df_weighted['Weight'] = 1 / df_weighted['EuclideanDistance']\n",
    "            # slice LableList into differnt length subLists \n",
    "            nnList = []\n",
    "            for numberNN in numOfNeighbor:\n",
    "                slicedList = labelList[0:numberNN]\n",
    "                nnList.append(slicedList)\n",
    "                \n",
    "            for index in range(0, len(nnList)):\n",
    "                majority_vote = Counter(nnList[index]).most_common(1)[0][0]\n",
    "                if  Catg == majority_vote:\n",
    "                    key = \"M\" + str(numOfNeighbor[index])\n",
    "                    if key in nnToMajorityAccMap:\n",
    "                        nnToMajorityAccMap[key] = nnToMajorityAccMap.get(key) + 1\n",
    "                    else:\n",
    "                        nnToMajorityAccMap[key] = 1\n",
    "                        \n",
    "            for n in numOfNeighbor:\n",
    "                weighted_result = df_weighted.head(n).groupby('Label')['Weight'].sum()\n",
    "                df_weighted_result = pd.DataFrame(weighted_result)\n",
    "                df_weighted_result = df_weighted_result.reset_index()\n",
    "                df_weighted_result.sort_values(by='Weight',inplace=True,ascending=False)\n",
    "                weighted_vote = df_weighted_result.iloc[0]['Label'].astype('int')\n",
    "                if  Catg == weighted_vote:\n",
    "                    key = \"W\" + str(n)\n",
    "                    if key in nnToWeightedAccMap:\n",
    "                        nnToWeightedAccMap[key] = nnToWeightedAccMap.get(key) + 1\n",
    "                    else:\n",
    "                        nnToWeightedAccMap[key] = 1\n",
    "                        \n",
    "            bar.update(i)\n",
    "        \n",
    "        # calculate accuracy base on Majority Vote\n",
    "        for key in nnToMajorityAccMap:\n",
    "            nnToMajorityAccMap[key] = nnToMajorityAccMap.get(key) / numOfTest\n",
    "        # calculate accuracy base on Weighted Vote\n",
    "        for key in nnToWeightedAccMap:\n",
    "            nnToWeightedAccMap[key] = nnToWeightedAccMap.get(key) / numOfTest    \n",
    "    return nnToMajorityAccMap, nnToWeightedAccMap"
   ]
  },
  {
   "cell_type": "code",
   "execution_count": 159,
   "metadata": {},
   "outputs": [
    {
     "name": "stdout",
     "output_type": "stream",
     "text": [
      "Checking bucketLength Param:\n",
      "[20 30 40 50 60]\n",
      "Checking numHashTablesList Param:\n",
      "[  1  30  60  90 120 150]\n"
     ]
    }
   ],
   "source": [
    "#set Param \n",
    "bucketLengthList = np.arange(20, 61, 10)\n",
    "numHashTablesList = np.arange(0, 151, 30)\n",
    "numHashTablesList[0] = 1\n",
    "#make sure the last element of numOfNeighborList is the largest\n",
    "numOfNeighborList = [1, 3, 5, 7, 15, 21, 25];\n",
    "numOfTest = 1000\n",
    "print(\"Checking bucketLength Param:\")\n",
    "print(bucketLengthList)\n",
    "print(\"Checking numHashTablesList Param:\")\n",
    "print(numHashTablesList)"
   ]
  },
  {
   "cell_type": "code",
   "execution_count": 160,
   "metadata": {},
   "outputs": [
    {
     "name": "stderr",
     "output_type": "stream",
     "text": [
      "100% (1000 of 1000) |####################| Elapsed Time: 0:26:05 Time:  0:26:05\n"
     ]
    },
    {
     "name": "stdout",
     "output_type": "stream",
     "text": [
      "bucketLen:20  #Hashtable:1  Majority Vote Acc: {'M1': 0.491, 'M3': 0.492, 'M5': 0.484, 'M7': 0.48, 'M15': 0.446, 'M21': 0.434, 'M25': 0.435}\n",
      "bucketLen:20  #Hashtable:1  Weighted Vote Acc: {'W1': 0.491, 'W3': 0.493, 'W5': 0.488, 'W7': 0.485, 'W15': 0.459, 'W21': 0.443, 'W25': 0.445}\n"
     ]
    },
    {
     "name": "stderr",
     "output_type": "stream",
     "text": [
      "100% (1000 of 1000) |####################| Elapsed Time: 0:24:10 Time:  0:24:10\n"
     ]
    },
    {
     "name": "stdout",
     "output_type": "stream",
     "text": [
      "bucketLen:20  #Hashtable:30  Majority Vote Acc: {'M1': 0.492, 'M3': 0.499, 'M5': 0.504, 'M7': 0.499, 'M15': 0.476, 'M21': 0.476, 'M25': 0.474}\n",
      "bucketLen:20  #Hashtable:30  Weighted Vote Acc: {'W1': 0.492, 'W3': 0.5, 'W5': 0.507, 'W7': 0.502, 'W15': 0.482, 'W21': 0.48, 'W25': 0.479}\n"
     ]
    },
    {
     "name": "stderr",
     "output_type": "stream",
     "text": [
      "100% (1000 of 1000) |####################| Elapsed Time: 0:34:30 Time:  0:34:30\n"
     ]
    },
    {
     "name": "stdout",
     "output_type": "stream",
     "text": [
      "bucketLen:20  #Hashtable:60  Majority Vote Acc: {'M1': 0.515, 'M3': 0.515, 'M5': 0.52, 'M7': 0.506, 'M15': 0.513, 'M21': 0.502, 'M25': 0.497}\n",
      "bucketLen:20  #Hashtable:60  Weighted Vote Acc: {'W1': 0.515, 'W3': 0.516, 'W5': 0.523, 'W7': 0.51, 'W15': 0.519, 'W21': 0.507, 'W25': 0.503}\n"
     ]
    },
    {
     "name": "stderr",
     "output_type": "stream",
     "text": [
      "100% (1000 of 1000) |####################| Elapsed Time: 1:22:50 Time:  1:22:50\n"
     ]
    },
    {
     "name": "stdout",
     "output_type": "stream",
     "text": [
      "bucketLen:20  #Hashtable:90  Majority Vote Acc: {'M1': 0.497, 'M3': 0.498, 'M5': 0.488, 'M7': 0.488, 'M15': 0.479, 'M21': 0.468, 'M25': 0.468}\n",
      "bucketLen:20  #Hashtable:90  Weighted Vote Acc: {'W1': 0.497, 'W3': 0.501, 'W5': 0.495, 'W7': 0.495, 'W15': 0.486, 'W21': 0.477, 'W25': 0.471}\n"
     ]
    },
    {
     "name": "stderr",
     "output_type": "stream",
     "text": [
      "100% (1000 of 1000) |####################| Elapsed Time: 1:14:48 Time:  1:14:48\n"
     ]
    },
    {
     "name": "stdout",
     "output_type": "stream",
     "text": [
      "bucketLen:20  #Hashtable:120  Majority Vote Acc: {'M1': 0.492, 'M3': 0.483, 'M5': 0.481, 'M7': 0.479, 'M15': 0.462, 'M21': 0.444, 'M25': 0.439}\n",
      "bucketLen:20  #Hashtable:120  Weighted Vote Acc: {'W1': 0.492, 'W3': 0.483, 'W5': 0.484, 'W7': 0.487, 'W15': 0.469, 'W21': 0.45, 'W25': 0.444}\n"
     ]
    },
    {
     "name": "stderr",
     "output_type": "stream",
     "text": [
      "100% (1000 of 1000) |####################| Elapsed Time: 1:14:05 Time:  1:14:05\n"
     ]
    },
    {
     "name": "stdout",
     "output_type": "stream",
     "text": [
      "bucketLen:20  #Hashtable:150  Majority Vote Acc: {'M1': 0.507, 'M3': 0.508, 'M5': 0.503, 'M7': 0.504, 'M15': 0.486, 'M21': 0.472, 'M25': 0.463}\n",
      "bucketLen:20  #Hashtable:150  Weighted Vote Acc: {'W1': 0.507, 'W3': 0.51, 'W5': 0.508, 'W7': 0.509, 'W15': 0.496, 'W21': 0.484, 'W25': 0.473}\n"
     ]
    },
    {
     "name": "stderr",
     "output_type": "stream",
     "text": [
      "100% (1000 of 1000) |####################| Elapsed Time: 0:16:47 Time:  0:16:47\n"
     ]
    },
    {
     "name": "stdout",
     "output_type": "stream",
     "text": [
      "bucketLen:30  #Hashtable:1  Majority Vote Acc: {'M1': 0.468, 'M3': 0.469, 'M5': 0.469, 'M7': 0.464, 'M15': 0.445, 'M21': 0.429, 'M25': 0.431}\n",
      "bucketLen:30  #Hashtable:1  Weighted Vote Acc: {'W1': 0.468, 'W3': 0.468, 'W5': 0.468, 'W7': 0.465, 'W15': 0.451, 'W21': 0.438, 'W25': 0.44}\n"
     ]
    },
    {
     "name": "stderr",
     "output_type": "stream",
     "text": [
      "100% (1000 of 1000) |####################| Elapsed Time: 0:23:37 Time:  0:23:37\n"
     ]
    },
    {
     "name": "stdout",
     "output_type": "stream",
     "text": [
      "bucketLen:30  #Hashtable:30  Majority Vote Acc: {'M1': 0.501, 'M3': 0.509, 'M5': 0.499, 'M7': 0.499, 'M15': 0.48, 'M21': 0.464, 'M25': 0.459}\n",
      "bucketLen:30  #Hashtable:30  Weighted Vote Acc: {'W1': 0.501, 'W3': 0.511, 'W5': 0.503, 'W7': 0.502, 'W15': 0.483, 'W21': 0.468, 'W25': 0.465}\n"
     ]
    },
    {
     "name": "stderr",
     "output_type": "stream",
     "text": [
      "100% (1000 of 1000) |####################| Elapsed Time: 0:29:11 Time:  0:29:11\n"
     ]
    },
    {
     "name": "stdout",
     "output_type": "stream",
     "text": [
      "bucketLen:30  #Hashtable:60  Majority Vote Acc: {'M15': 0.481, 'M21': 0.474, 'M1': 0.503, 'M3': 0.515, 'M5': 0.519, 'M7': 0.516, 'M25': 0.467}\n",
      "bucketLen:30  #Hashtable:60  Weighted Vote Acc: {'W15': 0.486, 'W21': 0.478, 'W1': 0.503, 'W3': 0.515, 'W5': 0.521, 'W7': 0.52, 'W25': 0.473}\n"
     ]
    },
    {
     "name": "stderr",
     "output_type": "stream",
     "text": [
      "100% (1000 of 1000) |####################| Elapsed Time: 0:34:21 Time:  0:34:21\n"
     ]
    },
    {
     "name": "stdout",
     "output_type": "stream",
     "text": [
      "bucketLen:30  #Hashtable:90  Majority Vote Acc: {'M1': 0.534, 'M3': 0.533, 'M5': 0.531, 'M7': 0.535, 'M15': 0.519, 'M21': 0.506, 'M25': 0.488}\n",
      "bucketLen:30  #Hashtable:90  Weighted Vote Acc: {'W1': 0.534, 'W3': 0.533, 'W5': 0.532, 'W7': 0.54, 'W15': 0.522, 'W21': 0.51, 'W25': 0.494}\n"
     ]
    },
    {
     "name": "stderr",
     "output_type": "stream",
     "text": [
      "100% (1000 of 1000) |####################| Elapsed Time: 0:39:37 Time:  0:39:37\n"
     ]
    },
    {
     "name": "stdout",
     "output_type": "stream",
     "text": [
      "bucketLen:30  #Hashtable:120  Majority Vote Acc: {'M1': 0.494, 'M3': 0.508, 'M5': 0.492, 'M7': 0.489, 'M15': 0.467, 'M21': 0.458, 'M25': 0.45}\n",
      "bucketLen:30  #Hashtable:120  Weighted Vote Acc: {'W1': 0.494, 'W3': 0.508, 'W5': 0.493, 'W7': 0.492, 'W15': 0.469, 'W21': 0.461, 'W25': 0.455}\n"
     ]
    },
    {
     "name": "stderr",
     "output_type": "stream",
     "text": [
      "100% (1000 of 1000) |####################| Elapsed Time: 0:44:54 Time:  0:44:54\n"
     ]
    },
    {
     "name": "stdout",
     "output_type": "stream",
     "text": [
      "bucketLen:30  #Hashtable:150  Majority Vote Acc: {'M1': 0.515, 'M3': 0.514, 'M5': 0.517, 'M7': 0.521, 'M15': 0.507, 'M21': 0.498, 'M25': 0.495}\n",
      "bucketLen:30  #Hashtable:150  Weighted Vote Acc: {'W1': 0.515, 'W3': 0.515, 'W5': 0.521, 'W7': 0.525, 'W15': 0.514, 'W21': 0.505, 'W25': 0.505}\n"
     ]
    },
    {
     "name": "stderr",
     "output_type": "stream",
     "text": [
      "100% (1000 of 1000) |####################| Elapsed Time: 0:16:27 Time:  0:16:27\n"
     ]
    },
    {
     "name": "stdout",
     "output_type": "stream",
     "text": [
      "bucketLen:40  #Hashtable:1  Majority Vote Acc: {'M1': 0.47, 'M3': 0.465, 'M5': 0.466, 'M7': 0.455, 'M15': 0.447, 'M21': 0.44, 'M25': 0.437}\n",
      "bucketLen:40  #Hashtable:1  Weighted Vote Acc: {'W1': 0.47, 'W3': 0.467, 'W5': 0.475, 'W7': 0.469, 'W15': 0.46, 'W21': 0.452, 'W25': 0.446}\n"
     ]
    },
    {
     "name": "stderr",
     "output_type": "stream",
     "text": [
      "100% (1000 of 1000) |####################| Elapsed Time: 0:22:16 Time:  0:22:16\n"
     ]
    },
    {
     "name": "stdout",
     "output_type": "stream",
     "text": [
      "bucketLen:40  #Hashtable:30  Majority Vote Acc: {'M1': 0.489, 'M3': 0.507, 'M5': 0.497, 'M7': 0.483, 'M15': 0.478, 'M21': 0.472, 'M25': 0.46}\n",
      "bucketLen:40  #Hashtable:30  Weighted Vote Acc: {'W1': 0.489, 'W3': 0.507, 'W5': 0.499, 'W7': 0.488, 'W15': 0.482, 'W21': 0.472, 'W25': 0.457}\n"
     ]
    },
    {
     "name": "stderr",
     "output_type": "stream",
     "text": [
      "100% (1000 of 1000) |####################| Elapsed Time: 0:27:44 Time:  0:27:44\n"
     ]
    },
    {
     "name": "stdout",
     "output_type": "stream",
     "text": [
      "bucketLen:40  #Hashtable:60  Majority Vote Acc: {'M1': 0.517, 'M3': 0.515, 'M5': 0.509, 'M7': 0.498, 'M15': 0.471, 'M21': 0.47, 'M25': 0.455}\n",
      "bucketLen:40  #Hashtable:60  Weighted Vote Acc: {'W1': 0.517, 'W3': 0.518, 'W5': 0.512, 'W7': 0.5, 'W15': 0.474, 'W21': 0.474, 'W25': 0.466}\n"
     ]
    },
    {
     "name": "stderr",
     "output_type": "stream",
     "text": [
      "100% (1000 of 1000) |####################| Elapsed Time: 0:32:50 Time:  0:32:50\n"
     ]
    },
    {
     "name": "stdout",
     "output_type": "stream",
     "text": [
      "bucketLen:40  #Hashtable:90  Majority Vote Acc: {'M15': 0.492, 'M21': 0.484, 'M25': 0.481, 'M1': 0.522, 'M3': 0.517, 'M5': 0.514, 'M7': 0.518}\n",
      "bucketLen:40  #Hashtable:90  Weighted Vote Acc: {'W15': 0.502, 'W21': 0.497, 'W25': 0.491, 'W1': 0.522, 'W3': 0.519, 'W5': 0.519, 'W7': 0.521}\n"
     ]
    },
    {
     "name": "stderr",
     "output_type": "stream",
     "text": [
      "100% (1000 of 1000) |####################| Elapsed Time: 0:38:19 Time:  0:38:19\n"
     ]
    },
    {
     "name": "stdout",
     "output_type": "stream",
     "text": [
      "bucketLen:40  #Hashtable:120  Majority Vote Acc: {'M1': 0.489, 'M3': 0.493, 'M5': 0.491, 'M7': 0.491, 'M15': 0.478, 'M21': 0.476, 'M25': 0.467}\n",
      "bucketLen:40  #Hashtable:120  Weighted Vote Acc: {'W1': 0.489, 'W3': 0.494, 'W5': 0.492, 'W7': 0.497, 'W15': 0.48, 'W21': 0.48, 'W25': 0.472}\n"
     ]
    },
    {
     "name": "stderr",
     "output_type": "stream",
     "text": [
      "100% (1000 of 1000) |####################| Elapsed Time: 0:43:55 Time:  0:43:55\n"
     ]
    },
    {
     "name": "stdout",
     "output_type": "stream",
     "text": [
      "bucketLen:40  #Hashtable:150  Majority Vote Acc: {'M15': 0.521, 'M21': 0.509, 'M25': 0.501, 'M1': 0.519, 'M3': 0.524, 'M5': 0.521, 'M7': 0.529}\n",
      "bucketLen:40  #Hashtable:150  Weighted Vote Acc: {'W15': 0.524, 'W21': 0.512, 'W25': 0.502, 'W1': 0.519, 'W3': 0.525, 'W5': 0.524, 'W7': 0.53}\n"
     ]
    },
    {
     "name": "stderr",
     "output_type": "stream",
     "text": [
      "100% (1000 of 1000) |####################| Elapsed Time: 0:15:41 Time:  0:15:41\n"
     ]
    },
    {
     "name": "stdout",
     "output_type": "stream",
     "text": [
      "bucketLen:50  #Hashtable:1  Majority Vote Acc: {'M1': 0.48, 'M3': 0.489, 'M5': 0.486, 'M7': 0.481, 'M15': 0.466, 'M21': 0.453, 'M25': 0.448}\n",
      "bucketLen:50  #Hashtable:1  Weighted Vote Acc: {'W1': 0.48, 'W3': 0.488, 'W5': 0.488, 'W7': 0.486, 'W15': 0.471, 'W21': 0.458, 'W25': 0.454}\n"
     ]
    },
    {
     "name": "stderr",
     "output_type": "stream",
     "text": [
      "100% (1000 of 1000) |####################| Elapsed Time: 0:21:39 Time:  0:21:39\n"
     ]
    },
    {
     "name": "stdout",
     "output_type": "stream",
     "text": [
      "bucketLen:50  #Hashtable:30  Majority Vote Acc: {'M1': 0.498, 'M3': 0.504, 'M5': 0.502, 'M7': 0.507, 'M15': 0.502, 'M21': 0.486, 'M25': 0.482}\n",
      "bucketLen:50  #Hashtable:30  Weighted Vote Acc: {'W1': 0.498, 'W3': 0.508, 'W5': 0.51, 'W7': 0.515, 'W15': 0.505, 'W21': 0.49, 'W25': 0.49}\n"
     ]
    },
    {
     "name": "stderr",
     "output_type": "stream",
     "text": [
      "100% (1000 of 1000) |####################| Elapsed Time: 0:27:01 Time:  0:27:01\n"
     ]
    },
    {
     "name": "stdout",
     "output_type": "stream",
     "text": [
      "bucketLen:50  #Hashtable:60  Majority Vote Acc: {'M1': 0.534, 'M3': 0.532, 'M5': 0.531, 'M7': 0.511, 'M15': 0.513, 'M21': 0.489, 'M25': 0.488}\n",
      "bucketLen:50  #Hashtable:60  Weighted Vote Acc: {'W1': 0.534, 'W3': 0.534, 'W5': 0.534, 'W7': 0.523, 'W15': 0.519, 'W21': 0.497, 'W25': 0.491}\n"
     ]
    },
    {
     "name": "stderr",
     "output_type": "stream",
     "text": [
      "100% (1000 of 1000) |####################| Elapsed Time: 0:32:29 Time:  0:32:29\n"
     ]
    },
    {
     "name": "stdout",
     "output_type": "stream",
     "text": [
      "bucketLen:50  #Hashtable:90  Majority Vote Acc: {'M1': 0.53, 'M3': 0.532, 'M5': 0.527, 'M7': 0.524, 'M15': 0.514, 'M21': 0.496, 'M25': 0.498}\n",
      "bucketLen:50  #Hashtable:90  Weighted Vote Acc: {'W1': 0.53, 'W3': 0.532, 'W5': 0.527, 'W7': 0.526, 'W15': 0.519, 'W21': 0.5, 'W25': 0.499}\n"
     ]
    },
    {
     "name": "stderr",
     "output_type": "stream",
     "text": [
      "100% (1000 of 1000) |####################| Elapsed Time: 0:38:20 Time:  0:38:20\n"
     ]
    },
    {
     "name": "stdout",
     "output_type": "stream",
     "text": [
      "bucketLen:50  #Hashtable:120  Majority Vote Acc: {'M1': 0.511, 'M3': 0.512, 'M5': 0.508, 'M7': 0.503, 'M15': 0.491, 'M21': 0.47, 'M25': 0.469}\n",
      "bucketLen:50  #Hashtable:120  Weighted Vote Acc: {'W1': 0.511, 'W3': 0.513, 'W5': 0.511, 'W7': 0.507, 'W15': 0.5, 'W21': 0.48, 'W25': 0.476}\n"
     ]
    },
    {
     "name": "stderr",
     "output_type": "stream",
     "text": [
      "100% (1000 of 1000) |####################| Elapsed Time: 0:43:57 Time:  0:43:57\n"
     ]
    },
    {
     "name": "stdout",
     "output_type": "stream",
     "text": [
      "bucketLen:50  #Hashtable:150  Majority Vote Acc: {'M1': 0.523, 'M3': 0.515, 'M5': 0.515, 'M7': 0.515, 'M15': 0.491, 'M21': 0.491, 'M25': 0.489}\n",
      "bucketLen:50  #Hashtable:150  Weighted Vote Acc: {'W1': 0.523, 'W3': 0.515, 'W5': 0.518, 'W7': 0.517, 'W15': 0.492, 'W21': 0.497, 'W25': 0.491}\n"
     ]
    },
    {
     "name": "stderr",
     "output_type": "stream",
     "text": [
      "100% (1000 of 1000) |####################| Elapsed Time: 0:16:16 Time:  0:16:16\n"
     ]
    },
    {
     "name": "stdout",
     "output_type": "stream",
     "text": [
      "bucketLen:60  #Hashtable:1  Majority Vote Acc: {'M1': 0.477, 'M3': 0.485, 'M5': 0.483, 'M7': 0.478, 'M15': 0.451, 'M21': 0.445, 'M25': 0.431}\n",
      "bucketLen:60  #Hashtable:1  Weighted Vote Acc: {'W1': 0.477, 'W3': 0.486, 'W5': 0.486, 'W7': 0.485, 'W15': 0.464, 'W21': 0.454, 'W25': 0.443}\n"
     ]
    },
    {
     "name": "stderr",
     "output_type": "stream",
     "text": [
      "100% (1000 of 1000) |####################| Elapsed Time: 0:22:14 Time:  0:22:14\n"
     ]
    },
    {
     "name": "stdout",
     "output_type": "stream",
     "text": [
      "bucketLen:60  #Hashtable:30  Majority Vote Acc: {'M1': 0.539, 'M3': 0.543, 'M5': 0.536, 'M7': 0.529, 'M15': 0.518, 'M21': 0.504, 'M25': 0.496}\n",
      "bucketLen:60  #Hashtable:30  Weighted Vote Acc: {'W1': 0.539, 'W3': 0.544, 'W5': 0.536, 'W7': 0.533, 'W15': 0.52, 'W21': 0.512, 'W25': 0.503}\n"
     ]
    },
    {
     "name": "stderr",
     "output_type": "stream",
     "text": [
      "100% (1000 of 1000) |####################| Elapsed Time: 0:28:22 Time:  0:28:22\n"
     ]
    },
    {
     "name": "stdout",
     "output_type": "stream",
     "text": [
      "bucketLen:60  #Hashtable:60  Majority Vote Acc: {'M1': 0.479, 'M3': 0.483, 'M5': 0.489, 'M7': 0.479, 'M15': 0.468, 'M21': 0.46, 'M25': 0.453}\n",
      "bucketLen:60  #Hashtable:60  Weighted Vote Acc: {'W15': 0.478, 'W1': 0.479, 'W3': 0.484, 'W5': 0.491, 'W7': 0.483, 'W21': 0.468, 'W25': 0.459}\n"
     ]
    },
    {
     "name": "stderr",
     "output_type": "stream",
     "text": [
      "100% (1000 of 1000) |####################| Elapsed Time: 0:34:17 Time:  0:34:17\n"
     ]
    },
    {
     "name": "stdout",
     "output_type": "stream",
     "text": [
      "bucketLen:60  #Hashtable:90  Majority Vote Acc: {'M1': 0.506, 'M3': 0.511, 'M5': 0.506, 'M7': 0.504, 'M15': 0.49, 'M21': 0.477, 'M25': 0.466}\n",
      "bucketLen:60  #Hashtable:90  Weighted Vote Acc: {'W1': 0.506, 'W3': 0.512, 'W5': 0.515, 'W7': 0.511, 'W15': 0.496, 'W21': 0.484, 'W25': 0.471}\n"
     ]
    },
    {
     "name": "stderr",
     "output_type": "stream",
     "text": [
      "100% (1000 of 1000) |####################| Elapsed Time: 0:41:37 Time:  0:41:37\n"
     ]
    },
    {
     "name": "stdout",
     "output_type": "stream",
     "text": [
      "bucketLen:60  #Hashtable:120  Majority Vote Acc: {'M1': 0.506, 'M3': 0.508, 'M5': 0.503, 'M7': 0.502, 'M15': 0.486, 'M21': 0.469, 'M25': 0.46}\n",
      "bucketLen:60  #Hashtable:120  Weighted Vote Acc: {'W1': 0.506, 'W3': 0.512, 'W5': 0.507, 'W7': 0.511, 'W15': 0.492, 'W21': 0.478, 'W25': 0.473}\n"
     ]
    },
    {
     "name": "stderr",
     "output_type": "stream",
     "text": [
      "100% (1000 of 1000) |####################| Elapsed Time: 1:31:53 Time:  1:31:53\n"
     ]
    },
    {
     "name": "stdout",
     "output_type": "stream",
     "text": [
      "bucketLen:60  #Hashtable:150  Majority Vote Acc: {'M1': 0.493, 'M3': 0.491, 'M5': 0.498, 'M7': 0.493, 'M15': 0.49, 'M21': 0.469, 'M25': 0.465}\n",
      "bucketLen:60  #Hashtable:150  Weighted Vote Acc: {'W1': 0.493, 'W3': 0.493, 'W5': 0.502, 'W7': 0.498, 'W15': 0.496, 'W21': 0.476, 'W25': 0.473}\n",
      "CPU times: user 22min 5s, sys: 2min 51s, total: 24min 56s\n",
      "Wall time: 18h 23min 49s\n"
     ]
    }
   ],
   "source": [
    "%%time\n",
    "bucketLengthList_para=[]\n",
    "numHashTablesList_para=[]\n",
    "resultMList = []\n",
    "resultWList = []\n",
    "for i in bucketLengthList:\n",
    "    for j in numHashTablesList:\n",
    "            resultM, resultW = getBestPerformance(numOfTest ,i, j, numOfNeighborList)\n",
    "            print( \"bucketLen:\" + str(i) + \"  #Hashtable:\" + str(j) +  \"  Majority Vote Acc: \" + str(resultM))\n",
    "            print( \"bucketLen:\" + str(i) + \"  #Hashtable:\" + str(j) +  \"  Weighted Vote Acc: \" + str(resultW))\n",
    "            bucketLengthList_para.append(i)\n",
    "            numHashTablesList_para.append(j)\n",
    "            resultMList.append(resultM)\n",
    "            resultWList.append(resultW)"
   ]
  },
  {
   "cell_type": "code",
   "execution_count": 161,
   "metadata": {},
   "outputs": [],
   "source": [
    "df_result = pd.DataFrame()\n",
    "df_result['BucketLength'] = bucketLengthList_para\n",
    "df_result['NumHashTables'] = numHashTablesList_para\n",
    "# conver List of map to panda dataframework\n",
    "df_result_map =  pd.DataFrame(resultMList)\n",
    "df_result_map2 = pd.DataFrame(resultWList)\n",
    "df_result = pd.concat([df_result, df_result_map], axis=1, join='inner')\n",
    "df_result = pd.concat([df_result, df_result_map2], axis=1, join='inner')\n",
    "\n",
    "df_result.to_csv('./result3.csv') #Chang the name every you wanna sava a file"
   ]
  },
  {
   "cell_type": "code",
   "execution_count": 162,
   "metadata": {},
   "outputs": [
    {
     "data": {
      "text/html": [
       "<div>\n",
       "<style scoped>\n",
       "    .dataframe tbody tr th:only-of-type {\n",
       "        vertical-align: middle;\n",
       "    }\n",
       "\n",
       "    .dataframe tbody tr th {\n",
       "        vertical-align: top;\n",
       "    }\n",
       "\n",
       "    .dataframe thead th {\n",
       "        text-align: right;\n",
       "    }\n",
       "</style>\n",
       "<table border=\"1\" class=\"dataframe\">\n",
       "  <thead>\n",
       "    <tr style=\"text-align: right;\">\n",
       "      <th></th>\n",
       "      <th>BucketLength</th>\n",
       "      <th>NumHashTables</th>\n",
       "      <th>M1</th>\n",
       "      <th>M15</th>\n",
       "      <th>M21</th>\n",
       "      <th>M25</th>\n",
       "      <th>M3</th>\n",
       "      <th>M5</th>\n",
       "      <th>M7</th>\n",
       "      <th>W1</th>\n",
       "      <th>W15</th>\n",
       "      <th>W21</th>\n",
       "      <th>W25</th>\n",
       "      <th>W3</th>\n",
       "      <th>W5</th>\n",
       "      <th>W7</th>\n",
       "    </tr>\n",
       "  </thead>\n",
       "  <tbody>\n",
       "    <tr>\n",
       "      <th>0</th>\n",
       "      <td>20</td>\n",
       "      <td>1</td>\n",
       "      <td>0.491</td>\n",
       "      <td>0.446</td>\n",
       "      <td>0.434</td>\n",
       "      <td>0.435</td>\n",
       "      <td>0.492</td>\n",
       "      <td>0.484</td>\n",
       "      <td>0.480</td>\n",
       "      <td>0.491</td>\n",
       "      <td>0.459</td>\n",
       "      <td>0.443</td>\n",
       "      <td>0.445</td>\n",
       "      <td>0.493</td>\n",
       "      <td>0.488</td>\n",
       "      <td>0.485</td>\n",
       "    </tr>\n",
       "    <tr>\n",
       "      <th>1</th>\n",
       "      <td>20</td>\n",
       "      <td>30</td>\n",
       "      <td>0.492</td>\n",
       "      <td>0.476</td>\n",
       "      <td>0.476</td>\n",
       "      <td>0.474</td>\n",
       "      <td>0.499</td>\n",
       "      <td>0.504</td>\n",
       "      <td>0.499</td>\n",
       "      <td>0.492</td>\n",
       "      <td>0.482</td>\n",
       "      <td>0.480</td>\n",
       "      <td>0.479</td>\n",
       "      <td>0.500</td>\n",
       "      <td>0.507</td>\n",
       "      <td>0.502</td>\n",
       "    </tr>\n",
       "    <tr>\n",
       "      <th>2</th>\n",
       "      <td>20</td>\n",
       "      <td>60</td>\n",
       "      <td>0.515</td>\n",
       "      <td>0.513</td>\n",
       "      <td>0.502</td>\n",
       "      <td>0.497</td>\n",
       "      <td>0.515</td>\n",
       "      <td>0.520</td>\n",
       "      <td>0.506</td>\n",
       "      <td>0.515</td>\n",
       "      <td>0.519</td>\n",
       "      <td>0.507</td>\n",
       "      <td>0.503</td>\n",
       "      <td>0.516</td>\n",
       "      <td>0.523</td>\n",
       "      <td>0.510</td>\n",
       "    </tr>\n",
       "    <tr>\n",
       "      <th>3</th>\n",
       "      <td>20</td>\n",
       "      <td>90</td>\n",
       "      <td>0.497</td>\n",
       "      <td>0.479</td>\n",
       "      <td>0.468</td>\n",
       "      <td>0.468</td>\n",
       "      <td>0.498</td>\n",
       "      <td>0.488</td>\n",
       "      <td>0.488</td>\n",
       "      <td>0.497</td>\n",
       "      <td>0.486</td>\n",
       "      <td>0.477</td>\n",
       "      <td>0.471</td>\n",
       "      <td>0.501</td>\n",
       "      <td>0.495</td>\n",
       "      <td>0.495</td>\n",
       "    </tr>\n",
       "    <tr>\n",
       "      <th>4</th>\n",
       "      <td>20</td>\n",
       "      <td>120</td>\n",
       "      <td>0.492</td>\n",
       "      <td>0.462</td>\n",
       "      <td>0.444</td>\n",
       "      <td>0.439</td>\n",
       "      <td>0.483</td>\n",
       "      <td>0.481</td>\n",
       "      <td>0.479</td>\n",
       "      <td>0.492</td>\n",
       "      <td>0.469</td>\n",
       "      <td>0.450</td>\n",
       "      <td>0.444</td>\n",
       "      <td>0.483</td>\n",
       "      <td>0.484</td>\n",
       "      <td>0.487</td>\n",
       "    </tr>\n",
       "    <tr>\n",
       "      <th>5</th>\n",
       "      <td>20</td>\n",
       "      <td>150</td>\n",
       "      <td>0.507</td>\n",
       "      <td>0.486</td>\n",
       "      <td>0.472</td>\n",
       "      <td>0.463</td>\n",
       "      <td>0.508</td>\n",
       "      <td>0.503</td>\n",
       "      <td>0.504</td>\n",
       "      <td>0.507</td>\n",
       "      <td>0.496</td>\n",
       "      <td>0.484</td>\n",
       "      <td>0.473</td>\n",
       "      <td>0.510</td>\n",
       "      <td>0.508</td>\n",
       "      <td>0.509</td>\n",
       "    </tr>\n",
       "    <tr>\n",
       "      <th>6</th>\n",
       "      <td>30</td>\n",
       "      <td>1</td>\n",
       "      <td>0.468</td>\n",
       "      <td>0.445</td>\n",
       "      <td>0.429</td>\n",
       "      <td>0.431</td>\n",
       "      <td>0.469</td>\n",
       "      <td>0.469</td>\n",
       "      <td>0.464</td>\n",
       "      <td>0.468</td>\n",
       "      <td>0.451</td>\n",
       "      <td>0.438</td>\n",
       "      <td>0.440</td>\n",
       "      <td>0.468</td>\n",
       "      <td>0.468</td>\n",
       "      <td>0.465</td>\n",
       "    </tr>\n",
       "    <tr>\n",
       "      <th>7</th>\n",
       "      <td>30</td>\n",
       "      <td>30</td>\n",
       "      <td>0.501</td>\n",
       "      <td>0.480</td>\n",
       "      <td>0.464</td>\n",
       "      <td>0.459</td>\n",
       "      <td>0.509</td>\n",
       "      <td>0.499</td>\n",
       "      <td>0.499</td>\n",
       "      <td>0.501</td>\n",
       "      <td>0.483</td>\n",
       "      <td>0.468</td>\n",
       "      <td>0.465</td>\n",
       "      <td>0.511</td>\n",
       "      <td>0.503</td>\n",
       "      <td>0.502</td>\n",
       "    </tr>\n",
       "    <tr>\n",
       "      <th>8</th>\n",
       "      <td>30</td>\n",
       "      <td>60</td>\n",
       "      <td>0.503</td>\n",
       "      <td>0.481</td>\n",
       "      <td>0.474</td>\n",
       "      <td>0.467</td>\n",
       "      <td>0.515</td>\n",
       "      <td>0.519</td>\n",
       "      <td>0.516</td>\n",
       "      <td>0.503</td>\n",
       "      <td>0.486</td>\n",
       "      <td>0.478</td>\n",
       "      <td>0.473</td>\n",
       "      <td>0.515</td>\n",
       "      <td>0.521</td>\n",
       "      <td>0.520</td>\n",
       "    </tr>\n",
       "    <tr>\n",
       "      <th>9</th>\n",
       "      <td>30</td>\n",
       "      <td>90</td>\n",
       "      <td>0.534</td>\n",
       "      <td>0.519</td>\n",
       "      <td>0.506</td>\n",
       "      <td>0.488</td>\n",
       "      <td>0.533</td>\n",
       "      <td>0.531</td>\n",
       "      <td>0.535</td>\n",
       "      <td>0.534</td>\n",
       "      <td>0.522</td>\n",
       "      <td>0.510</td>\n",
       "      <td>0.494</td>\n",
       "      <td>0.533</td>\n",
       "      <td>0.532</td>\n",
       "      <td>0.540</td>\n",
       "    </tr>\n",
       "    <tr>\n",
       "      <th>10</th>\n",
       "      <td>30</td>\n",
       "      <td>120</td>\n",
       "      <td>0.494</td>\n",
       "      <td>0.467</td>\n",
       "      <td>0.458</td>\n",
       "      <td>0.450</td>\n",
       "      <td>0.508</td>\n",
       "      <td>0.492</td>\n",
       "      <td>0.489</td>\n",
       "      <td>0.494</td>\n",
       "      <td>0.469</td>\n",
       "      <td>0.461</td>\n",
       "      <td>0.455</td>\n",
       "      <td>0.508</td>\n",
       "      <td>0.493</td>\n",
       "      <td>0.492</td>\n",
       "    </tr>\n",
       "    <tr>\n",
       "      <th>11</th>\n",
       "      <td>30</td>\n",
       "      <td>150</td>\n",
       "      <td>0.515</td>\n",
       "      <td>0.507</td>\n",
       "      <td>0.498</td>\n",
       "      <td>0.495</td>\n",
       "      <td>0.514</td>\n",
       "      <td>0.517</td>\n",
       "      <td>0.521</td>\n",
       "      <td>0.515</td>\n",
       "      <td>0.514</td>\n",
       "      <td>0.505</td>\n",
       "      <td>0.505</td>\n",
       "      <td>0.515</td>\n",
       "      <td>0.521</td>\n",
       "      <td>0.525</td>\n",
       "    </tr>\n",
       "    <tr>\n",
       "      <th>12</th>\n",
       "      <td>40</td>\n",
       "      <td>1</td>\n",
       "      <td>0.470</td>\n",
       "      <td>0.447</td>\n",
       "      <td>0.440</td>\n",
       "      <td>0.437</td>\n",
       "      <td>0.465</td>\n",
       "      <td>0.466</td>\n",
       "      <td>0.455</td>\n",
       "      <td>0.470</td>\n",
       "      <td>0.460</td>\n",
       "      <td>0.452</td>\n",
       "      <td>0.446</td>\n",
       "      <td>0.467</td>\n",
       "      <td>0.475</td>\n",
       "      <td>0.469</td>\n",
       "    </tr>\n",
       "    <tr>\n",
       "      <th>13</th>\n",
       "      <td>40</td>\n",
       "      <td>30</td>\n",
       "      <td>0.489</td>\n",
       "      <td>0.478</td>\n",
       "      <td>0.472</td>\n",
       "      <td>0.460</td>\n",
       "      <td>0.507</td>\n",
       "      <td>0.497</td>\n",
       "      <td>0.483</td>\n",
       "      <td>0.489</td>\n",
       "      <td>0.482</td>\n",
       "      <td>0.472</td>\n",
       "      <td>0.457</td>\n",
       "      <td>0.507</td>\n",
       "      <td>0.499</td>\n",
       "      <td>0.488</td>\n",
       "    </tr>\n",
       "    <tr>\n",
       "      <th>14</th>\n",
       "      <td>40</td>\n",
       "      <td>60</td>\n",
       "      <td>0.517</td>\n",
       "      <td>0.471</td>\n",
       "      <td>0.470</td>\n",
       "      <td>0.455</td>\n",
       "      <td>0.515</td>\n",
       "      <td>0.509</td>\n",
       "      <td>0.498</td>\n",
       "      <td>0.517</td>\n",
       "      <td>0.474</td>\n",
       "      <td>0.474</td>\n",
       "      <td>0.466</td>\n",
       "      <td>0.518</td>\n",
       "      <td>0.512</td>\n",
       "      <td>0.500</td>\n",
       "    </tr>\n",
       "    <tr>\n",
       "      <th>15</th>\n",
       "      <td>40</td>\n",
       "      <td>90</td>\n",
       "      <td>0.522</td>\n",
       "      <td>0.492</td>\n",
       "      <td>0.484</td>\n",
       "      <td>0.481</td>\n",
       "      <td>0.517</td>\n",
       "      <td>0.514</td>\n",
       "      <td>0.518</td>\n",
       "      <td>0.522</td>\n",
       "      <td>0.502</td>\n",
       "      <td>0.497</td>\n",
       "      <td>0.491</td>\n",
       "      <td>0.519</td>\n",
       "      <td>0.519</td>\n",
       "      <td>0.521</td>\n",
       "    </tr>\n",
       "    <tr>\n",
       "      <th>16</th>\n",
       "      <td>40</td>\n",
       "      <td>120</td>\n",
       "      <td>0.489</td>\n",
       "      <td>0.478</td>\n",
       "      <td>0.476</td>\n",
       "      <td>0.467</td>\n",
       "      <td>0.493</td>\n",
       "      <td>0.491</td>\n",
       "      <td>0.491</td>\n",
       "      <td>0.489</td>\n",
       "      <td>0.480</td>\n",
       "      <td>0.480</td>\n",
       "      <td>0.472</td>\n",
       "      <td>0.494</td>\n",
       "      <td>0.492</td>\n",
       "      <td>0.497</td>\n",
       "    </tr>\n",
       "    <tr>\n",
       "      <th>17</th>\n",
       "      <td>40</td>\n",
       "      <td>150</td>\n",
       "      <td>0.519</td>\n",
       "      <td>0.521</td>\n",
       "      <td>0.509</td>\n",
       "      <td>0.501</td>\n",
       "      <td>0.524</td>\n",
       "      <td>0.521</td>\n",
       "      <td>0.529</td>\n",
       "      <td>0.519</td>\n",
       "      <td>0.524</td>\n",
       "      <td>0.512</td>\n",
       "      <td>0.502</td>\n",
       "      <td>0.525</td>\n",
       "      <td>0.524</td>\n",
       "      <td>0.530</td>\n",
       "    </tr>\n",
       "    <tr>\n",
       "      <th>18</th>\n",
       "      <td>50</td>\n",
       "      <td>1</td>\n",
       "      <td>0.480</td>\n",
       "      <td>0.466</td>\n",
       "      <td>0.453</td>\n",
       "      <td>0.448</td>\n",
       "      <td>0.489</td>\n",
       "      <td>0.486</td>\n",
       "      <td>0.481</td>\n",
       "      <td>0.480</td>\n",
       "      <td>0.471</td>\n",
       "      <td>0.458</td>\n",
       "      <td>0.454</td>\n",
       "      <td>0.488</td>\n",
       "      <td>0.488</td>\n",
       "      <td>0.486</td>\n",
       "    </tr>\n",
       "    <tr>\n",
       "      <th>19</th>\n",
       "      <td>50</td>\n",
       "      <td>30</td>\n",
       "      <td>0.498</td>\n",
       "      <td>0.502</td>\n",
       "      <td>0.486</td>\n",
       "      <td>0.482</td>\n",
       "      <td>0.504</td>\n",
       "      <td>0.502</td>\n",
       "      <td>0.507</td>\n",
       "      <td>0.498</td>\n",
       "      <td>0.505</td>\n",
       "      <td>0.490</td>\n",
       "      <td>0.490</td>\n",
       "      <td>0.508</td>\n",
       "      <td>0.510</td>\n",
       "      <td>0.515</td>\n",
       "    </tr>\n",
       "    <tr>\n",
       "      <th>20</th>\n",
       "      <td>50</td>\n",
       "      <td>60</td>\n",
       "      <td>0.534</td>\n",
       "      <td>0.513</td>\n",
       "      <td>0.489</td>\n",
       "      <td>0.488</td>\n",
       "      <td>0.532</td>\n",
       "      <td>0.531</td>\n",
       "      <td>0.511</td>\n",
       "      <td>0.534</td>\n",
       "      <td>0.519</td>\n",
       "      <td>0.497</td>\n",
       "      <td>0.491</td>\n",
       "      <td>0.534</td>\n",
       "      <td>0.534</td>\n",
       "      <td>0.523</td>\n",
       "    </tr>\n",
       "    <tr>\n",
       "      <th>21</th>\n",
       "      <td>50</td>\n",
       "      <td>90</td>\n",
       "      <td>0.530</td>\n",
       "      <td>0.514</td>\n",
       "      <td>0.496</td>\n",
       "      <td>0.498</td>\n",
       "      <td>0.532</td>\n",
       "      <td>0.527</td>\n",
       "      <td>0.524</td>\n",
       "      <td>0.530</td>\n",
       "      <td>0.519</td>\n",
       "      <td>0.500</td>\n",
       "      <td>0.499</td>\n",
       "      <td>0.532</td>\n",
       "      <td>0.527</td>\n",
       "      <td>0.526</td>\n",
       "    </tr>\n",
       "    <tr>\n",
       "      <th>22</th>\n",
       "      <td>50</td>\n",
       "      <td>120</td>\n",
       "      <td>0.511</td>\n",
       "      <td>0.491</td>\n",
       "      <td>0.470</td>\n",
       "      <td>0.469</td>\n",
       "      <td>0.512</td>\n",
       "      <td>0.508</td>\n",
       "      <td>0.503</td>\n",
       "      <td>0.511</td>\n",
       "      <td>0.500</td>\n",
       "      <td>0.480</td>\n",
       "      <td>0.476</td>\n",
       "      <td>0.513</td>\n",
       "      <td>0.511</td>\n",
       "      <td>0.507</td>\n",
       "    </tr>\n",
       "    <tr>\n",
       "      <th>23</th>\n",
       "      <td>50</td>\n",
       "      <td>150</td>\n",
       "      <td>0.523</td>\n",
       "      <td>0.491</td>\n",
       "      <td>0.491</td>\n",
       "      <td>0.489</td>\n",
       "      <td>0.515</td>\n",
       "      <td>0.515</td>\n",
       "      <td>0.515</td>\n",
       "      <td>0.523</td>\n",
       "      <td>0.492</td>\n",
       "      <td>0.497</td>\n",
       "      <td>0.491</td>\n",
       "      <td>0.515</td>\n",
       "      <td>0.518</td>\n",
       "      <td>0.517</td>\n",
       "    </tr>\n",
       "    <tr>\n",
       "      <th>24</th>\n",
       "      <td>60</td>\n",
       "      <td>1</td>\n",
       "      <td>0.477</td>\n",
       "      <td>0.451</td>\n",
       "      <td>0.445</td>\n",
       "      <td>0.431</td>\n",
       "      <td>0.485</td>\n",
       "      <td>0.483</td>\n",
       "      <td>0.478</td>\n",
       "      <td>0.477</td>\n",
       "      <td>0.464</td>\n",
       "      <td>0.454</td>\n",
       "      <td>0.443</td>\n",
       "      <td>0.486</td>\n",
       "      <td>0.486</td>\n",
       "      <td>0.485</td>\n",
       "    </tr>\n",
       "    <tr>\n",
       "      <th>25</th>\n",
       "      <td>60</td>\n",
       "      <td>30</td>\n",
       "      <td>0.539</td>\n",
       "      <td>0.518</td>\n",
       "      <td>0.504</td>\n",
       "      <td>0.496</td>\n",
       "      <td>0.543</td>\n",
       "      <td>0.536</td>\n",
       "      <td>0.529</td>\n",
       "      <td>0.539</td>\n",
       "      <td>0.520</td>\n",
       "      <td>0.512</td>\n",
       "      <td>0.503</td>\n",
       "      <td>0.544</td>\n",
       "      <td>0.536</td>\n",
       "      <td>0.533</td>\n",
       "    </tr>\n",
       "    <tr>\n",
       "      <th>26</th>\n",
       "      <td>60</td>\n",
       "      <td>60</td>\n",
       "      <td>0.479</td>\n",
       "      <td>0.468</td>\n",
       "      <td>0.460</td>\n",
       "      <td>0.453</td>\n",
       "      <td>0.483</td>\n",
       "      <td>0.489</td>\n",
       "      <td>0.479</td>\n",
       "      <td>0.479</td>\n",
       "      <td>0.478</td>\n",
       "      <td>0.468</td>\n",
       "      <td>0.459</td>\n",
       "      <td>0.484</td>\n",
       "      <td>0.491</td>\n",
       "      <td>0.483</td>\n",
       "    </tr>\n",
       "    <tr>\n",
       "      <th>27</th>\n",
       "      <td>60</td>\n",
       "      <td>90</td>\n",
       "      <td>0.506</td>\n",
       "      <td>0.490</td>\n",
       "      <td>0.477</td>\n",
       "      <td>0.466</td>\n",
       "      <td>0.511</td>\n",
       "      <td>0.506</td>\n",
       "      <td>0.504</td>\n",
       "      <td>0.506</td>\n",
       "      <td>0.496</td>\n",
       "      <td>0.484</td>\n",
       "      <td>0.471</td>\n",
       "      <td>0.512</td>\n",
       "      <td>0.515</td>\n",
       "      <td>0.511</td>\n",
       "    </tr>\n",
       "    <tr>\n",
       "      <th>28</th>\n",
       "      <td>60</td>\n",
       "      <td>120</td>\n",
       "      <td>0.506</td>\n",
       "      <td>0.486</td>\n",
       "      <td>0.469</td>\n",
       "      <td>0.460</td>\n",
       "      <td>0.508</td>\n",
       "      <td>0.503</td>\n",
       "      <td>0.502</td>\n",
       "      <td>0.506</td>\n",
       "      <td>0.492</td>\n",
       "      <td>0.478</td>\n",
       "      <td>0.473</td>\n",
       "      <td>0.512</td>\n",
       "      <td>0.507</td>\n",
       "      <td>0.511</td>\n",
       "    </tr>\n",
       "    <tr>\n",
       "      <th>29</th>\n",
       "      <td>60</td>\n",
       "      <td>150</td>\n",
       "      <td>0.493</td>\n",
       "      <td>0.490</td>\n",
       "      <td>0.469</td>\n",
       "      <td>0.465</td>\n",
       "      <td>0.491</td>\n",
       "      <td>0.498</td>\n",
       "      <td>0.493</td>\n",
       "      <td>0.493</td>\n",
       "      <td>0.496</td>\n",
       "      <td>0.476</td>\n",
       "      <td>0.473</td>\n",
       "      <td>0.493</td>\n",
       "      <td>0.502</td>\n",
       "      <td>0.498</td>\n",
       "    </tr>\n",
       "  </tbody>\n",
       "</table>\n",
       "</div>"
      ],
      "text/plain": [
       "    BucketLength  NumHashTables     M1    M15    M21    M25     M3     M5  \\\n",
       "0             20              1  0.491  0.446  0.434  0.435  0.492  0.484   \n",
       "1             20             30  0.492  0.476  0.476  0.474  0.499  0.504   \n",
       "2             20             60  0.515  0.513  0.502  0.497  0.515  0.520   \n",
       "3             20             90  0.497  0.479  0.468  0.468  0.498  0.488   \n",
       "4             20            120  0.492  0.462  0.444  0.439  0.483  0.481   \n",
       "5             20            150  0.507  0.486  0.472  0.463  0.508  0.503   \n",
       "6             30              1  0.468  0.445  0.429  0.431  0.469  0.469   \n",
       "7             30             30  0.501  0.480  0.464  0.459  0.509  0.499   \n",
       "8             30             60  0.503  0.481  0.474  0.467  0.515  0.519   \n",
       "9             30             90  0.534  0.519  0.506  0.488  0.533  0.531   \n",
       "10            30            120  0.494  0.467  0.458  0.450  0.508  0.492   \n",
       "11            30            150  0.515  0.507  0.498  0.495  0.514  0.517   \n",
       "12            40              1  0.470  0.447  0.440  0.437  0.465  0.466   \n",
       "13            40             30  0.489  0.478  0.472  0.460  0.507  0.497   \n",
       "14            40             60  0.517  0.471  0.470  0.455  0.515  0.509   \n",
       "15            40             90  0.522  0.492  0.484  0.481  0.517  0.514   \n",
       "16            40            120  0.489  0.478  0.476  0.467  0.493  0.491   \n",
       "17            40            150  0.519  0.521  0.509  0.501  0.524  0.521   \n",
       "18            50              1  0.480  0.466  0.453  0.448  0.489  0.486   \n",
       "19            50             30  0.498  0.502  0.486  0.482  0.504  0.502   \n",
       "20            50             60  0.534  0.513  0.489  0.488  0.532  0.531   \n",
       "21            50             90  0.530  0.514  0.496  0.498  0.532  0.527   \n",
       "22            50            120  0.511  0.491  0.470  0.469  0.512  0.508   \n",
       "23            50            150  0.523  0.491  0.491  0.489  0.515  0.515   \n",
       "24            60              1  0.477  0.451  0.445  0.431  0.485  0.483   \n",
       "25            60             30  0.539  0.518  0.504  0.496  0.543  0.536   \n",
       "26            60             60  0.479  0.468  0.460  0.453  0.483  0.489   \n",
       "27            60             90  0.506  0.490  0.477  0.466  0.511  0.506   \n",
       "28            60            120  0.506  0.486  0.469  0.460  0.508  0.503   \n",
       "29            60            150  0.493  0.490  0.469  0.465  0.491  0.498   \n",
       "\n",
       "       M7     W1    W15    W21    W25     W3     W5     W7  \n",
       "0   0.480  0.491  0.459  0.443  0.445  0.493  0.488  0.485  \n",
       "1   0.499  0.492  0.482  0.480  0.479  0.500  0.507  0.502  \n",
       "2   0.506  0.515  0.519  0.507  0.503  0.516  0.523  0.510  \n",
       "3   0.488  0.497  0.486  0.477  0.471  0.501  0.495  0.495  \n",
       "4   0.479  0.492  0.469  0.450  0.444  0.483  0.484  0.487  \n",
       "5   0.504  0.507  0.496  0.484  0.473  0.510  0.508  0.509  \n",
       "6   0.464  0.468  0.451  0.438  0.440  0.468  0.468  0.465  \n",
       "7   0.499  0.501  0.483  0.468  0.465  0.511  0.503  0.502  \n",
       "8   0.516  0.503  0.486  0.478  0.473  0.515  0.521  0.520  \n",
       "9   0.535  0.534  0.522  0.510  0.494  0.533  0.532  0.540  \n",
       "10  0.489  0.494  0.469  0.461  0.455  0.508  0.493  0.492  \n",
       "11  0.521  0.515  0.514  0.505  0.505  0.515  0.521  0.525  \n",
       "12  0.455  0.470  0.460  0.452  0.446  0.467  0.475  0.469  \n",
       "13  0.483  0.489  0.482  0.472  0.457  0.507  0.499  0.488  \n",
       "14  0.498  0.517  0.474  0.474  0.466  0.518  0.512  0.500  \n",
       "15  0.518  0.522  0.502  0.497  0.491  0.519  0.519  0.521  \n",
       "16  0.491  0.489  0.480  0.480  0.472  0.494  0.492  0.497  \n",
       "17  0.529  0.519  0.524  0.512  0.502  0.525  0.524  0.530  \n",
       "18  0.481  0.480  0.471  0.458  0.454  0.488  0.488  0.486  \n",
       "19  0.507  0.498  0.505  0.490  0.490  0.508  0.510  0.515  \n",
       "20  0.511  0.534  0.519  0.497  0.491  0.534  0.534  0.523  \n",
       "21  0.524  0.530  0.519  0.500  0.499  0.532  0.527  0.526  \n",
       "22  0.503  0.511  0.500  0.480  0.476  0.513  0.511  0.507  \n",
       "23  0.515  0.523  0.492  0.497  0.491  0.515  0.518  0.517  \n",
       "24  0.478  0.477  0.464  0.454  0.443  0.486  0.486  0.485  \n",
       "25  0.529  0.539  0.520  0.512  0.503  0.544  0.536  0.533  \n",
       "26  0.479  0.479  0.478  0.468  0.459  0.484  0.491  0.483  \n",
       "27  0.504  0.506  0.496  0.484  0.471  0.512  0.515  0.511  \n",
       "28  0.502  0.506  0.492  0.478  0.473  0.512  0.507  0.511  \n",
       "29  0.493  0.493  0.496  0.476  0.473  0.493  0.502  0.498  "
      ]
     },
     "execution_count": 162,
     "metadata": {},
     "output_type": "execute_result"
    }
   ],
   "source": [
    "df_result"
   ]
  },
  {
   "cell_type": "code",
   "execution_count": null,
   "metadata": {},
   "outputs": [],
   "source": []
  },
  {
   "cell_type": "markdown",
   "metadata": {},
   "source": [
    "# !!!Skip all the code below !!!"
   ]
  },
  {
   "cell_type": "markdown",
   "metadata": {},
   "source": [
    "## Split data\n",
    "Split the data to training and validation data. We choose 70% for training and 30% for validation purposes."
   ]
  },
  {
   "cell_type": "code",
   "execution_count": 6,
   "metadata": {},
   "outputs": [
    {
     "name": "stdout",
     "output_type": "stream",
     "text": [
      "CPU times: user 1.74 s, sys: 428 ms, total: 2.16 s\n",
      "Wall time: 2.97 s\n"
     ]
    }
   ],
   "source": [
    "%%time\n",
    "# append 'label' and 'id' to the last two colunms\n",
    "df = pd.DataFrame(a)\n",
    "df['lable'] = y\n",
    "id_ = np.arange(1,len(df)+1,1)\n",
    "df['id'] = id_\n",
    "X = df.values"
   ]
  },
  {
   "cell_type": "code",
   "execution_count": 7,
   "metadata": {},
   "outputs": [],
   "source": [
    "from sklearn.model_selection import train_test_split\n",
    "X_train, X_test, y_train, y_test = train_test_split(X, y, test_size=0.3)"
   ]
  },
  {
   "cell_type": "markdown",
   "metadata": {},
   "source": [
    "## Using PySpark to retrieve similar images"
   ]
  },
  {
   "cell_type": "code",
   "execution_count": null,
   "metadata": {},
   "outputs": [],
   "source": [
    "spark = SparkSession.builder \\\n",
    "     .master(\"local\") \\\n",
    "     .appName(\"Image Retrieval\") \\\n",
    "     .config(\"spark.some.config.option\", \"some-value\") \\\n",
    "     .getOrCreate()"
   ]
  },
  {
   "cell_type": "code",
   "execution_count": 8,
   "metadata": {},
   "outputs": [],
   "source": [
    "Train = map(lambda x: (int(x[-1]),int(x[-2]),Vectors.dense(x[:-2])), X_train)\n",
    "Train_df = spark.createDataFrame(Train,schema=['id','label',\"features\"])"
   ]
  },
  {
   "cell_type": "code",
   "execution_count": 9,
   "metadata": {},
   "outputs": [],
   "source": [
    "Test = map(lambda x: (int(x[-1]),int(x[-2]),Vectors.dense(x[:-2])), X_test)\n",
    "Test_df = spark.createDataFrame(Test,schema=['id','label',\"features\"])"
   ]
  },
  {
   "cell_type": "code",
   "execution_count": 10,
   "metadata": {},
   "outputs": [
    {
     "name": "stdout",
     "output_type": "stream",
     "text": [
      "+----+-----+--------------------+\n",
      "|  id|label|            features|\n",
      "+----+-----+--------------------+\n",
      "|5960|   80|[0.00363684489770...|\n",
      "|1536|   18|[0.06071563370892...|\n",
      "+----+-----+--------------------+\n",
      "only showing top 2 rows\n",
      "\n"
     ]
    }
   ],
   "source": [
    "Train_df.show(n = 2)"
   ]
  },
  {
   "cell_type": "code",
   "execution_count": 11,
   "metadata": {},
   "outputs": [
    {
     "name": "stdout",
     "output_type": "stream",
     "text": [
      "The hashed dataset where hashed values are stored in the column 'hashes':\n",
      "+----+-----+--------------------+--------------------+\n",
      "|  id|label|            features|              hashes|\n",
      "+----+-----+--------------------+--------------------+\n",
      "|5960|   80|[0.00363684489770...|[[0.0], [0.0], [-...|\n",
      "|1536|   18|[0.06071563370892...|[[0.0], [0.0], [-...|\n",
      "|8387|   95|[0.01072387506065...|[[-1.0], [0.0], [...|\n",
      "|6169|   83|[0.00663216869878...|[[0.0], [0.0], [0...|\n",
      "|4067|   55|[0.01922287915132...|[[-1.0], [-1.0], ...|\n",
      "|2135|   23|[0.02042261440886...|[[0.0], [0.0], [0...|\n",
      "|8246|   95|[0.02765804852049...|[[-1.0], [-1.0], ...|\n",
      "|8690|   96|[0.03719083421779...|[[-1.0], [0.0], [...|\n",
      "|6724|   88|[0.06854134811831...|[[-1.0], [0.0], [...|\n",
      "|  26|    0|[0.04798466879403...|[[-1.0], [0.0], [...|\n",
      "|6432|   88|[0.01443607483278...|[[0.0], [0.0], [-...|\n",
      "|2392|   28|[0.02645665091604...|[[-1.0], [0.0], [...|\n",
      "|1580|   18|[0.16710970919873...|[[-1.0], [0.0], [...|\n",
      "|1388|   18|[0.04740743977419...|[[0.0], [0.0], [-...|\n",
      "| 914|   16|[0.03339826134034...|[[0.0], [0.0], [0...|\n",
      "| 222|    4|[0.05095278145434...|[[-1.0], [0.0], [...|\n",
      "|1594|   18|[0.01278881740856...|[[0.0], [0.0], [-...|\n",
      "|6710|   88|[0.05449112230859...|[[-1.0], [0.0], [...|\n",
      "|4701|   62|[0.05434406875582...|[[0.0], [0.0], [-...|\n",
      "|6126|   82|[0.03130979499120...|[[-1.0], [-1.0], ...|\n",
      "+----+-----+--------------------+--------------------+\n",
      "only showing top 20 rows\n",
      "\n",
      "peak memory: 832.16 MiB, increment: 0.08 MiB\n",
      "CPU times: user 112 ms, sys: 42.7 ms, total: 155 ms\n",
      "Wall time: 3.16 s\n"
     ]
    }
   ],
   "source": [
    "%reload_ext memory_profiler\n",
    "def toMeasureMemo():\n",
    "    brp = BucketedRandomProjectionLSH(inputCol=\"features\", outputCol=\"hashes\",bucketLength=2,numHashTables=3)\n",
    "    model = brp.fit(Train_df)\n",
    "    print(\"The hashed dataset where hashed values are stored in the column 'hashes':\")\n",
    "    model.transform(Train_df).show()\n",
    "%memit  toMeasureMemo()"
   ]
  },
  {
   "cell_type": "code",
   "execution_count": null,
   "metadata": {},
   "outputs": [],
   "source": [
    "key = Vectors.dense(X_test[0][0:-2])"
   ]
  },
  {
   "cell_type": "code",
   "execution_count": null,
   "metadata": {},
   "outputs": [],
   "source": [
    "key"
   ]
  },
  {
   "cell_type": "code",
   "execution_count": null,
   "metadata": {},
   "outputs": [],
   "source": [
    "X_test[0][-2]"
   ]
  },
  {
   "cell_type": "code",
   "execution_count": null,
   "metadata": {},
   "outputs": [],
   "source": [
    "print(\"Approximately searching Train_df for 2 nearest neighbors of the key:\")\n",
    "model.approxNearestNeighbors(Train_df, key, 5).show()"
   ]
  },
  {
   "cell_type": "code",
   "execution_count": null,
   "metadata": {},
   "outputs": [],
   "source": [
    "# result_id = result.select('label',).collect()\n",
    "# result_id[0].label"
   ]
  },
  {
   "cell_type": "code",
   "execution_count": null,
   "metadata": {},
   "outputs": [],
   "source": [
    "# print(\"Approximately joining Train_df and Test_df on Euclidean distance smaller than 1:\")\n",
    "# model.approxSimilarityJoin(Train_df, Test_df, 1.1, distCol=\"EuclideanDistance\")\\\n",
    "#     .select(col(\"datasetA.id\").alias(\"Train_df\"),\n",
    "#             col(\"datasetB.id\").alias(\"Test_df\"),\n",
    "#             col(\"EuclideanDistance\")).show(30)"
   ]
  },
  {
   "cell_type": "code",
   "execution_count": null,
   "metadata": {},
   "outputs": [],
   "source": [
    "accuracy = 0\n",
    "numOfNeighbor = 5\n",
    "numOfTest= 5\n",
    "accList = []\n",
    "with progressbar.ProgressBar(max_value=numOfTest) as bar:\n",
    "    for i in range(0, numOfTest):\n",
    "        Catg = X_test[i][-2]\n",
    "        key = Vectors.dense(X_test[i][0:-2])\n",
    "        result = model.approxNearestNeighbors(Train_df, key, numOfNeighbor)\n",
    "        temp = Counter([int(row['label']) for row in result.collect()])\n",
    "        if  Catg in temp:\n",
    "            accuracy += temp.get(Catg)/ numOfNeighbor\n",
    "            accList.append(temp.get(Catg)/ numOfNeighbor)\n",
    "        else:\n",
    "            accList.append(0)\n",
    "        bar.update(i)\n",
    "    accuracy /= numOfTest"
   ]
  },
  {
   "cell_type": "code",
   "execution_count": null,
   "metadata": {},
   "outputs": [],
   "source": [
    "accuracy"
   ]
  },
  {
   "cell_type": "code",
   "execution_count": null,
   "metadata": {},
   "outputs": [],
   "source": [
    "print(accList)"
   ]
  },
  {
   "cell_type": "code",
   "execution_count": null,
   "metadata": {},
   "outputs": [],
   "source": [
    "# from matplotlib.pyplot import imshow\n",
    "# imshow(imgs[4795])"
   ]
  },
  {
   "cell_type": "code",
   "execution_count": 32,
   "metadata": {},
   "outputs": [
    {
     "name": "stdout",
     "output_type": "stream",
     "text": [
      "The memory_profiler extension is already loaded. To reload it, use:\n",
      "  %reload_ext memory_profiler\n",
      "peak memory: 288.71 MiB, increment: 160.33 MiB\n"
     ]
    }
   ],
   "source": [
    "%load_ext memory_profiler\n",
    "def my_func():\n",
    "    a = [1] * (10 **6)\n",
    "    b = [2] * (2 * 10 ** 7)\n",
    "    del b\n",
    "    return a\n",
    "%memit my_func()"
   ]
  },
  {
   "cell_type": "code",
   "execution_count": 31,
   "metadata": {},
   "outputs": [
    {
     "data": {
      "text/plain": [
       "[[1], [1, 2, 3], [1, 2, 3, 4, 5], [1, 2, 3, 4, 5, 6, 7]]"
      ]
     },
     "execution_count": 31,
     "metadata": {},
     "output_type": "execute_result"
    }
   ],
   "source": []
  },
  {
   "cell_type": "code",
   "execution_count": null,
   "metadata": {},
   "outputs": [],
   "source": []
  },
  {
   "cell_type": "code",
   "execution_count": null,
   "metadata": {},
   "outputs": [],
   "source": []
  }
 ],
 "metadata": {
  "kernelspec": {
   "display_name": "Python 3",
   "language": "python",
   "name": "python3"
  }
 },
 "nbformat": 4,
 "nbformat_minor": 2
}
